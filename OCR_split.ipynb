{
  "nbformat": 4,
  "nbformat_minor": 0,
  "metadata": {
    "colab": {
      "provenance": [],
      "collapsed_sections": []
    },
    "kernelspec": {
      "name": "python3",
      "display_name": "Python 3"
    },
    "language_info": {
      "name": "python"
    }
  },
  "cells": [
    {
      "cell_type": "code",
      "execution_count": null,
      "metadata": {
        "id": "CwN1KNN4kLpo"
      },
      "outputs": [],
      "source": [
        "import pandas as pd\n",
        "import os\n",
        "import re\n",
        "import numpy as np"
      ]
    },
    {
      "cell_type": "code",
      "source": [
        "def f_create_dir(dir_name):\n",
        "    '''\n",
        "    설명: 만들려는 디렉토리가 없으면 생성\n",
        "    입력: 경로 + 새 디렉토리 이름\n",
        "    출력: x\n",
        "    예시: createDirectory('./test')\n",
        "    '''\n",
        "    import os\n",
        "    \n",
        "    try:\n",
        "        if not os.path.exists(dir_name):\n",
        "            os.makedirs(dir_name)\n",
        "    except OSError:\n",
        "        print(\"Error: Failed to create the directory.\")"
      ],
      "metadata": {
        "id": "eQRHOLYylJ-p"
      },
      "execution_count": null,
      "outputs": []
    },
    {
      "cell_type": "code",
      "source": [
        "dir_name = '/content/Final_Ocr'\n",
        "f_create_dir(dir_name)"
      ],
      "metadata": {
        "id": "CX3qBduZkWhM"
      },
      "execution_count": null,
      "outputs": []
    },
    {
      "cell_type": "code",
      "source": [
        "OCR_list = os.listdir(dir_name)\n",
        "OCR_list.sort()"
      ],
      "metadata": {
        "id": "sj-Zso7mlcDf"
      },
      "execution_count": null,
      "outputs": []
    },
    {
      "cell_type": "code",
      "source": [
        "for i in range(1,int(len(OCR_list))):\n",
        "    Final_i = pd.read_csv(f'/content/Final_Ocr/Final_OCR_{i}.csv')\n",
        "    Final_i.fillna(value='abc', inplace=True)\n",
        "    Final_i = Final_i['0']\n",
        "    Final_i = [Final_i[0]] + [Final_i[1]] + [Final_i[2]] + [Final_i[3]] + [Final_i[4]] + [Final_i[5]] + [Final_i[6]] + [Final_i[7]] + [Final_i[8]]\n",
        "    print(Final_i)"
      ],
      "metadata": {
        "colab": {
          "base_uri": "https://localhost:8080/"
        },
        "id": "c1Jl7fBnceKl",
        "outputId": "e7bb6741-20c3-412f-b94e-32671446ad06"
      },
      "execution_count": null,
      "outputs": [
        {
          "output_type": "stream",
          "name": "stdout",
          "text": [
            "['It exploded.', \"Day and night change. I've folded the seedings.\", 'There will be saliva and water in the bat.', \" It's because you're R\", ' precious living beings.1', \"Itexploded2Dayandnightchange3I'vefoldedtheseedings\", 'vajave4Therewillbesalivaandwaterinthebat5', \"It'sbecauseyou'reR\", 'preciouslivingbeings']\n",
            "[\"I don't know. a fer Night and day.\", ' somewhere. The air has dwindled. Everyone is dignified.- ', ' ', ' ', ' F handaferNightandday', 'somewhereTheairhasdwindledEveryoneisdignified-', 'abc', 'abc', 'Fhand']\n",
            "[\"It's very responsive. atomspheric circulation.\", 'abc', \"It's changing. The plastic bay will swell. individual human rights.\", ' ', 'abc', \"1It'sveryresponsive2atomsphericcirculation\", '3', \"It'schanging4Theplasticbaywillswellindividualhumanrights\", 'abc']\n",
            "['The liquid is less reactive. Day and night change due to the rotation of the Earth. It will move to where the battlefield flows. The air in the bag would have funed into air that was not fresh.', 'abc', 'I can breathe.ITheliquidislessreactive2DayandnightchangeduetotherotationoftheEarth3Itwillmovetowherethebattlefieldflows4Theairinthebagwouldhavefunedintoairthatwasnotfresh', 'abc', '5Icanbreathe', 'abc', 'abc', 'abc', 'abc']\n"
          ]
        }
      ]
    },
    {
      "cell_type": "code",
      "source": [
        "for i in range(1,int(len(OCR_list))):\n",
        "    Final_i = pd.read_csv(f'/content/Final_Ocr/Final_OCR_{i}.csv')\n",
        "    Final_i.fillna(value='abc', inplace=True)\n",
        "    Final_i = Final_i['0']\n",
        "    Final_i = [Final_i[0]] + [Final_i[1]] + [Final_i[2]] + [Final_i[3]] + [Final_i[4]] + [Final_i[5]] + [Final_i[6]] + [Final_i[7]] + [Final_i[8]]\n",
        "    print(Final_i[0].split('.'))"
      ],
      "metadata": {
        "colab": {
          "base_uri": "https://localhost:8080/"
        },
        "id": "Kw4694A5dCUC",
        "outputId": "690e32cd-a5c5-42b3-8d0f-1965b25d603b"
      },
      "execution_count": null,
      "outputs": [
        {
          "output_type": "stream",
          "name": "stdout",
          "text": [
            "['It exploded', '']\n",
            "[\"I don't know\", ' a fer Night and day', '']\n",
            "[\"It's very responsive\", ' atomspheric circulation', '']\n",
            "['The liquid is less reactive', ' Day and night change due to the rotation of the Earth', ' It will move to where the battlefield flows', ' The air in the bag would have funed into air that was not fresh', '']\n"
          ]
        }
      ]
    },
    {
      "cell_type": "code",
      "source": [
        "for i in range(1,int(len(OCR_list))):\n",
        "    Final_i = pd.read_csv(f'/content/Final_Ocr/Final_OCR_{i}.csv')\n",
        "    Final_i.fillna(value='abc', inplace=True)\n",
        "    Final_i = Final_i['0']\n",
        "    Final_i = [Final_i[0]] + [Final_i[1]] + [Final_i[2]] + [Final_i[3]] + [Final_i[4]] + [Final_i[5]] + [Final_i[6]] + [Final_i[7]] + [Final_i[8]]\n",
        "    # print(Final_i[0])\n",
        "    print(Final_i[1].split('.'))"
      ],
      "metadata": {
        "colab": {
          "base_uri": "https://localhost:8080/"
        },
        "id": "g6Jjwp3u4KIf",
        "outputId": "12fd7187-9ca1-4013-f2cf-986174a4dbcb"
      },
      "execution_count": null,
      "outputs": [
        {
          "output_type": "stream",
          "name": "stdout",
          "text": [
            "['Day and night change', \" I've folded the seedings\", '']\n",
            "[' somewhere', ' The air has dwindled', ' Everyone is dignified', '- ']\n",
            "['abc']\n",
            "['abc']\n"
          ]
        }
      ]
    },
    {
      "cell_type": "code",
      "source": [
        "for i in range(1,int(len(OCR_list))):\n",
        "    Final_i = pd.read_csv(f'/content/Final_Ocr/Final_OCR_{i}.csv')\n",
        "    Final_i.fillna(value='abc', inplace=True)\n",
        "    Final_i = Final_i['0']\n",
        "    Final_i = [Final_i[0]] + [Final_i[1]] + [Final_i[2]] + [Final_i[3]] + [Final_i[4]] + [Final_i[5]] + [Final_i[6]] + [Final_i[7]] + [Final_i[8]]\n",
        "    answer_1 = Final_i[0].split('.')[0]\n",
        "    print(answer_1)"
      ],
      "metadata": {
        "colab": {
          "base_uri": "https://localhost:8080/"
        },
        "id": "r5SZfJCd3nk6",
        "outputId": "7a697f83-9089-4335-942e-9782624bafc7"
      },
      "execution_count": null,
      "outputs": [
        {
          "output_type": "stream",
          "name": "stdout",
          "text": [
            "It exploded\n",
            "I don't know\n",
            "It's very responsive\n",
            "The liquid is less reactive\n",
            "Low boiling point and cannot be stored as liquid at rom temperature\n"
          ]
        }
      ]
    },
    {
      "cell_type": "code",
      "source": [
        "for i in range(1,int(len(OCR_list))):\n",
        "    Final_i = pd.read_csv(f'/content/Final_Ocr/Final_OCR_{i}.csv')\n",
        "    Final_i.fillna(value='abc', inplace=True)\n",
        "    Final_i = Final_i['0']\n",
        "    Final_i = [Final_i[0]] + [Final_i[1]] + [Final_i[2]] + [Final_i[3]] + [Final_i[4]] + [Final_i[5]] + [Final_i[6]] + [Final_i[7]] + [Final_i[8]]\n",
        "    if Final_i[1].split('.')[0] == 'abc':\n",
        "        answer_2 = Final_i[2].split('.')[0]\n",
        "    else:\n",
        "        answer_2 = Final_i[1].split('.')[0]\n",
        "    print(answer_2)"
      ],
      "metadata": {
        "colab": {
          "base_uri": "https://localhost:8080/"
        },
        "id": "OIrSFFn136gx",
        "outputId": "5d1c45d1-2542-40d5-8422-9a9886256656"
      },
      "execution_count": null,
      "outputs": [
        {
          "output_type": "stream",
          "name": "stdout",
          "text": [
            "Day and night change\n",
            " somewhere\n",
            "It's changing\n",
            "I can breathe\n",
            "The sessons change\n"
          ]
        }
      ]
    },
    {
      "cell_type": "code",
      "source": [
        "for i in range(1,int(len(OCR_list))):\n",
        "    Final_i = pd.read_csv(f'/content/Final_Ocr/Final_OCR_{i}.csv')\n",
        "    Final_i.fillna(value='abc', inplace=True)\n",
        "    Final_i = Final_i['0']\n",
        "    # print(Final_i)\n",
        "    Final_i = [Final_i[0]] + [Final_i[1]] + [Final_i[2]] + [Final_i[3]] + [Final_i[4]] + [Final_i[5]] + [Final_i[6]] + [Final_i[7]] + [Final_i[8]]\n",
        "    # print(Final_i[1].split('.'))\n",
        "    # for t in range()\n",
        "    # Final_i = re.sub(r\"[^a-zA-Z가-힣\\s\\t\\.]\", \"\", Final_i)\n",
        "    if Final_i[0].split('.')[0] == ['abc']:\n",
        "            answer_1 = Final_i[1].split('.')[0]\n",
        "    else:\n",
        "        answer_1 = Final_i[0].split('.')[0]\n",
        "    print(answer_1)         \n",
        "\n",
        "    # if Final_i[0].split('.') == r\"[^a-zA-Z가-힣\\s\\t\\.0-9a-zA-Z]\":\n",
        "    #     continue\n",
        "    # else:\n",
        "    #     answer_1 = Final_i[0].split('.')[0]\n",
        "    # print(answer_1)"
      ],
      "metadata": {
        "colab": {
          "base_uri": "https://localhost:8080/"
        },
        "id": "kQcfRf7hmP0u",
        "outputId": "e838c0e9-9cea-4ee8-9ac9-08d1a69c23ee"
      },
      "execution_count": null,
      "outputs": [
        {
          "output_type": "stream",
          "name": "stdout",
          "text": [
            "abc\n",
            "I don't know\n",
            "It's very responsive\n",
            "The liquid is less reactive\n",
            "Low boiling point and cannot be stored as liquid at rom temperature\n"
          ]
        }
      ]
    }
  ]
}